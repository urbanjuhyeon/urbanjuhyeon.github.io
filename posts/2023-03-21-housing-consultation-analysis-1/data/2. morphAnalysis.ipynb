{
 "cells": [
  {
   "attachments": {},
   "cell_type": "markdown",
   "metadata": {},
   "source": [
    "# 주거상담기록 텍스트 전처리"
   ]
  },
  {
   "attachments": {},
   "cell_type": "markdown",
   "metadata": {},
   "source": [
    "## 1. 텍스트 정제"
   ]
  },
  {
   "attachments": {},
   "cell_type": "markdown",
   "metadata": {},
   "source": [
    "### 1.1. 패지키 설치 및 데이터 불러오기"
   ]
  },
  {
   "cell_type": "code",
   "execution_count": null,
   "metadata": {},
   "outputs": [],
   "source": [
    "#!pip install pandas\n",
    "#!pip install tqdm\n",
    "#!pip install kiwipiepy"
   ]
  },
  {
   "cell_type": "code",
   "execution_count": 2,
   "metadata": {},
   "outputs": [],
   "source": [
    "## 필요한 모듈 불러오기\n",
    "import json, random, re, os\n",
    "import swifter\n",
    "import pandas as pd\n",
    "from tqdm import tqdm # 작업 프로세스 시각화\n",
    "from kiwipiepy import Kiwi # 형태소분석기 모듈\n",
    "from kiwipiepy.utils import Stopwords # 불용어사전 담겨있는 모듈 불러오기"
   ]
  },
  {
   "cell_type": "code",
   "execution_count": 3,
   "metadata": {},
   "outputs": [
    {
     "name": "stdout",
     "output_type": "stream",
     "text": [
      "\\\\jsk\\server 1\\Project\\Ongoing\\housingConsultRecord\\2-Work\\jhyeonpark\\Code\n"
     ]
    },
    {
     "name": "stderr",
     "output_type": "stream",
     "text": [
      "C:\\Users\\UNIST\\AppData\\Local\\Temp/ipykernel_32124/1285594222.py:2: DtypeWarning: Columns (6,7) have mixed types. Specify dtype option on import or set low_memory=False.\n",
      "  db_record = pd.read_csv('D:/housingRecordAnalytics/Data/db_record_v1_230106.csv')[[\"id_f\", \"cons_text\"]] # 심층상담 데이터 읽기\n"
     ]
    }
   ],
   "source": [
    "print(os.getcwd()) # 현재 디렉토리 경로 확인하기\n",
    "db_record = pd.read_csv('D:/housingRecordAnalytics/Data/db_record_v1_230106.csv')[[\"id_f\", \"cons_text\"]] # 심층상담 데이터 읽기"
   ]
  },
  {
   "attachments": {},
   "cell_type": "markdown",
   "metadata": {},
   "source": [
    "### 1.2. 불필요한 텍스트 제거"
   ]
  },
  {
   "cell_type": "code",
   "execution_count": 4,
   "metadata": {},
   "outputs": [],
   "source": [
    "# db_record = db_record.sample(1000)"
   ]
  },
  {
   "cell_type": "code",
   "execution_count": 5,
   "metadata": {},
   "outputs": [],
   "source": [
    "## 한글, 숫자만 남기고 제거; 줄바꿈\n",
    "db_record['cons_text_cleaned_1'] = list(map(lambda text: re.sub(r\"([^가-힣0-9a-z ])\", \" \", text), db_record['cons_text'].str.lower()))"
   ]
  },
  {
   "attachments": {},
   "cell_type": "markdown",
   "metadata": {},
   "source": [
    "### 1.3. 동의어 사전 적용"
   ]
  },
  {
   "cell_type": "code",
   "execution_count": 6,
   "metadata": {},
   "outputs": [
    {
     "data": {
      "application/vnd.jupyter.widget-view+json": {
       "model_id": "69937f990656478693c114599f7c8d81",
       "version_major": 2,
       "version_minor": 0
      },
      "text/plain": [
       "Pandas Apply:   0%|          | 0/1000 [00:00<?, ?it/s]"
      ]
     },
     "metadata": {},
     "output_type": "display_data"
    }
   ],
   "source": [
    "dict_synonyms = pd.read_csv('../data/dict/dict_synonyms.csv')\n",
    "\n",
    "## 동의어사전 적용하는 함수 정의\n",
    "def replace_word(text):\n",
    "    for i in range(len(dict_synonyms['beforeWord'])): \n",
    "        try:\n",
    "            if dict_synonyms['beforeWord'][i] in text: # 바꿀 단어가 발견된다면\n",
    "                text = text.replace(dict_synonyms['beforeWord'][i], dict_synonyms['afterWord'][i]) # 해당하는 단어의 afterWord로 바꾸어라\n",
    "        except Exception as e:\n",
    "            print(f\"Error 발생 / 에러명: {e}\")\n",
    "            print(dict_synonyms['afterWord'][i])\n",
    "            print(text)\n",
    "    return text\n",
    "\n",
    "db_record['cons_text_cleaned_2'] = db_record['cons_text_cleaned_1'].swifter.set_npartitions(npartitions = 12).apply(lambda x: replace_word(x))"
   ]
  },
  {
   "attachments": {},
   "cell_type": "markdown",
   "metadata": {},
   "source": [
    "## 2. 텍스트 토큰화"
   ]
  },
  {
   "attachments": {},
   "cell_type": "markdown",
   "metadata": {},
   "source": [
    "### 2.1. 사용자 정의 사전 만들기"
   ]
  },
  {
   "cell_type": "code",
   "execution_count": 9,
   "metadata": {},
   "outputs": [],
   "source": [
    "## 동의어사전에서 추출하기\n",
    "dict_synonyms = pd.read_csv('../data/dict/dict_synonyms.csv') # 동의어사전 불러오기\n",
    "list_userDefined_synonyms = (dict_synonyms['afterWord'].str.strip().unique() + \"\\tNNG\\t9\").tolist() # 사용자 정의 사전 포맷으로 변경\n",
    "\n",
    "## 사용자 정의 사전 불러오기\n",
    "dict_add = pd.read_table(\"../Data/dict/dict_userDefined_madeByMe.txt\") # 추가 사전 불러오기\n",
    "list_userDefined_add = (pd.read_table(\"../Data/dict/dict_userDefined_madeByMe.txt\", header = None, sep = \"-\")[0] + \"\\t9\").tolist() # 사용자 정의 사전 포맷으로 변경\n",
    "\n",
    "## 위 두 사전 합치기\n",
    "dict_userDefined = pd.DataFrame(pd.DataFrame(list_userDefined_synonyms + list_userDefined_add)[0].unique()) # 두 list 결합\n",
    "dict_userDefined.to_csv('../Data/dict/dict_userDefined.txt', index = False, header = False) # 새로운 사용자 정의 사전 저장하기"
   ]
  },
  {
   "attachments": {},
   "cell_type": "markdown",
   "metadata": {},
   "source": [
    "### 2.2. 형태소분석기"
   ]
  },
  {
   "cell_type": "code",
   "execution_count": null,
   "metadata": {},
   "outputs": [],
   "source": [
    "## 설정\n",
    "# kiwi = Kiwi(num_workers = 0, model_type = 'sbg')\n",
    "# kiwi.load_user_dictionary('../Data/dict/dict_userDefined.txt') # 사용자사전 추가\n",
    "# kiwi.tokenize('당센터 상담 후 임대주택 입주 대상자 사례관리 물품 전달을 위해 연락 드림. -12월 17일 9시에 내방해주신다고 함.')"
   ]
  },
  {
   "cell_type": "code",
   "execution_count": null,
   "metadata": {},
   "outputs": [],
   "source": [
    "## Kiwi 설정\n",
    "kiwi = Kiwi(model_type = 'sbg', typos = 'basic') # Kiwi 추가 설정\n",
    "kiwi.load_user_dictionary('../Data/dict/dict_userDefined.txt') # 사용자사전 추가\n",
    "morph_analysis = lambda x: kiwi.tokenize(x, stopwords = Stopwords()) if type(x) is str else None # 형태소 분석\n",
    "db_record['cons_text_posTagged_kiwi'] = db_record['cons_text_cleaned_2'].swifter.apply(morph_analysis)"
   ]
  },
  {
   "attachments": {},
   "cell_type": "markdown",
   "metadata": {},
   "source": [
    "### 2.3. 사용자/불용어 사전"
   ]
  },
  {
   "cell_type": "code",
   "execution_count": null,
   "metadata": {},
   "outputs": [],
   "source": [
    "## 형태소분석된 것들을 join\n",
    "dict_stopword = pd.read_csv('../data/dict/dict_stopword.csv')\n",
    "dict_oneChar = pd.read_csv(\"../Data/dict/dict_oneChar.csv\")\n",
    "\n",
    "## 품사 정의하기\n",
    "list_pos_all = (\"N\", \"V\", \"M\", \"J\", \"E\", \"X\") # 주요 품사 모두\n",
    "list_pos_main = (\"N\", \"V\") # 명사, 동사, 형용사만\n",
    "\n",
    "## 불용어 제거하고 형태소 결합하기\n",
    "def tokenToText(tokens):\n",
    "    textJoinedMain = []\n",
    "    textJoinedAll = [] \n",
    "    for token, pos, _, _ in tokens:        \n",
    "        if (token not in list(dict_stopword['word']) and ( len(token) > 1 or (len(token) == 1 and token in list(dict_oneChar['word']) ) )): \n",
    "            if pos.startswith('V'): token = token + '다' # 동사라면 뒤에 '다'를 붙여서 자연스럽게 만들기\n",
    "            if pos.startswith(list_pos_main) : textJoinedMain.append(token)\n",
    "            if pos.startswith(list_pos_all) : textJoinedAll.append(token)\n",
    "\n",
    "    out = pd.Series([' '.join(textJoinedAll), ' '.join(textJoinedMain)])\n",
    "    return out\n",
    "\n",
    "db_record[['cons_text_posTagged_all', 'cons_text_posTagged_main']] = db_record['cons_text_posTagged_kiwi'].swifter.set_npartitions(npartitions = 6).apply(lambda x: tokenToText(x))"
   ]
  },
  {
   "attachments": {},
   "cell_type": "markdown",
   "metadata": {},
   "source": [
    "## 3. 데이터 내보내기"
   ]
  },
  {
   "cell_type": "code",
   "execution_count": null,
   "metadata": {},
   "outputs": [],
   "source": [
    "db_record = db_record[['id_f', 'cons_text', 'cons_text_posTagged_main']]"
   ]
  },
  {
   "cell_type": "code",
   "execution_count": null,
   "metadata": {},
   "outputs": [],
   "source": [
    "db_record.sample(frac = 0.005).to_csv('D:/housingRecordAnalytics/Data/db_record_v2_sample.csv', index = False, encoding=\"utf-8-sig\") # 1% 샘플데이터\n",
    "db_record.to_csv('D:/housingRecordAnalytics/Data/db_record_v2_' + pd.to_datetime(\"today\").strftime(\"M%mD%d_H%HM%M\") + '.csv', index=False, encoding=\"utf-8-sig\") # 본 데이터"
   ]
  }
 ],
 "metadata": {
  "kernelspec": {
   "display_name": "Python 3",
   "language": "python",
   "name": "python3"
  },
  "language_info": {
   "codemirror_mode": {
    "name": "ipython",
    "version": 3
   },
   "file_extension": ".py",
   "mimetype": "text/x-python",
   "name": "python",
   "nbconvert_exporter": "python",
   "pygments_lexer": "ipython3",
   "version": "3.10.1"
  },
  "vscode": {
   "interpreter": {
    "hash": "d9857af39baa5bc75fd64898a3e435e9a8b7c189855ff8ebf635854a9e4a0abf"
   }
  }
 },
 "nbformat": 4,
 "nbformat_minor": 2
}
